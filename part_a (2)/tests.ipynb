{
 "cells": [
  {
   "cell_type": "code",
   "execution_count": 136,
   "id": "5938e3f9",
   "metadata": {
    "scrolled": false
   },
   "outputs": [
    {
     "name": "stdout",
     "output_type": "stream",
     "text": [
      "                         ..     \n",
      "                     ..      ..     \n",
      "                 ..     \u001b[34m b1 \u001b[0m     ..     \n",
      "             ..      ..      ..      ..     \n",
      "         ..      ..      ..      ..      ..     \n",
      "     ..     \u001b[34m b2 \u001b[0m     ..      ..      ..      ..     \n",
      " ..      ..      ..      ..      ..      ..      ..     \n",
      "     ..      ..      ..      ..      ..     \u001b[31m r2 \u001b[0m    \n",
      "         ..      ..     \u001b[34m b2 \u001b[0m     ..      ..     \n",
      "             ..      ..      ..      ..     \n",
      "                 ..      ..      ..     \n",
      "                     ..      ..     \n",
      "                         ..     \n",
      "\n",
      "(0, 1)\n",
      "(5, 6)\n",
      "                         ..     \n",
      "                    \u001b[31m r1 \u001b[0m     ..     \n",
      "                 ..     \u001b[31m r2 \u001b[0m     ..     \n",
      "             ..      ..      ..      ..     \n",
      "         ..      ..      ..      ..      ..     \n",
      "     ..     \u001b[34m b2 \u001b[0m     ..      ..      ..      ..     \n",
      " ..      ..      ..      ..      ..      ..      ..     \n",
      "     ..      ..      ..      ..      ..      ..     \n",
      "         ..      ..     \u001b[34m b2 \u001b[0m     ..      ..     \n",
      "             ..      ..      ..      ..     \n",
      "                 ..      ..      ..     \n",
      "                     ..      ..     \n",
      "                         ..     \n",
      "\n",
      "(0, 1)\n",
      "(5, 0)\n",
      "                         ..     \n",
      "                     ..      ..     \n",
      "                 ..     \u001b[31m r3 \u001b[0m     ..     \n",
      "             ..      ..      ..      ..     \n",
      "         ..      ..      ..      ..      ..     \n",
      "     ..     \u001b[34m b2 \u001b[0m     ..      ..      ..      ..     \n",
      " ..      ..      ..      ..      ..      ..      ..     \n",
      "     ..      ..      ..      ..      ..      ..     \n",
      "         ..      ..     \u001b[34m b2 \u001b[0m     ..      ..     \n",
      "             ..      ..      ..      ..     \n",
      "                 ..      ..      ..     \n",
      "                     ..      ..     \n",
      "                         ..     \n",
      "\n",
      "(-1, 1)\n",
      "(5, 1)\n",
      "                         ..     \n",
      "                     ..      ..     \n",
      "                 ..      ..      ..     \n",
      "             ..      ..      ..      ..     \n",
      "         ..      ..     \u001b[31m r1 \u001b[0m     ..      ..     \n",
      "     ..     \u001b[34m b2 \u001b[0m     ..      ..      ..      ..     \n",
      " ..      ..      ..     \u001b[31m r1 \u001b[0m     ..      ..      ..     \n",
      "     ..      ..      ..      ..      ..      ..     \n",
      "         ..      ..     \u001b[31m r3 \u001b[0m     ..      ..     \n",
      "             ..      ..      ..      ..     \n",
      "                 ..      ..      ..     \n",
      "                     ..      ..     \n",
      "                         ..     \n",
      "\n",
      "(0, -1)\n",
      "(4, 2)\n",
      "                         ..     \n",
      "                     ..      ..     \n",
      "                 ..      ..      ..     \n",
      "             ..     \u001b[31m r1 \u001b[0m     ..      ..     \n",
      "         ..      ..      ..      ..      ..     \n",
      "     ..     \u001b[34m b2 \u001b[0m     ..      ..      ..      ..     \n",
      " ..      ..      ..     \u001b[31m r1 \u001b[0m     ..      ..      ..     \n",
      "     ..      ..      ..      ..      ..      ..     \n",
      "         ..      ..     \u001b[31m r3 \u001b[0m     ..      ..     \n",
      "             ..      ..      ..      ..     \n",
      "                 ..      ..      ..     \n",
      "                     ..      ..     \n",
      "                         ..     \n",
      "\n",
      "(0, -1)\n",
      "(2, 3)\n"
     ]
    },
    {
     "name": "stderr",
     "output_type": "stream",
     "text": [
      "Traceback (most recent call last):\n",
      "  File \"D:\\Download\\Python\\lib\\runpy.py\", line 196, in _run_module_as_main\n",
      "    return _run_code(code, main_globals, None,\n",
      "  File \"D:\\Download\\Python\\lib\\runpy.py\", line 86, in _run_code\n",
      "    exec(code, run_globals)\n",
      "  File \"C:\\Users\\AORUS\\OneDrive\\桌面\\大学网课\\ai\\project1\\AI-project1\\part_a (2)\\search\\__main__.py\", line 57, in <module>\n",
      "    main()\n",
      "  File \"C:\\Users\\AORUS\\OneDrive\\桌面\\大学网课\\ai\\project1\\AI-project1\\part_a (2)\\search\\__main__.py\", line 52, in main\n",
      "    sequence: list[tuple] = search(input)\n",
      "  File \"C:\\Users\\AORUS\\OneDrive\\桌面\\大学网课\\ai\\project1\\AI-project1\\part_a (2)\\search\\program.py\", line 20, in search\n",
      "    spread_list = a_star(input)\n",
      "  File \"C:\\Users\\AORUS\\OneDrive\\桌面\\大学网课\\ai\\project1\\AI-project1\\part_a (2)\\search\\algorithm.py\", line 163, in a_star\n",
      "    change_token_position = get_change_token(board, parent_node.position, direction) #更新棋盘前先记录哪些token将要改变\n",
      "  File \"C:\\Users\\AORUS\\OneDrive\\桌面\\大学网课\\ai\\project1\\AI-project1\\part_a (2)\\search\\algorithm.py\", line 106, in get_change_token\n",
      "    power = board[position][1]\n",
      "KeyError: (2, 3)\n"
     ]
    }
   ],
   "source": [
    "import search\n",
    "!python -m search < test.csv\n"
   ]
  },
  {
   "cell_type": "code",
   "execution_count": null,
   "id": "f97ac64f",
   "metadata": {},
   "outputs": [],
   "source": []
  },
  {
   "cell_type": "code",
   "execution_count": null,
   "id": "d2ea6f8f",
   "metadata": {},
   "outputs": [],
   "source": []
  }
 ],
 "metadata": {
  "kernelspec": {
   "display_name": "Python 3 (ipykernel)",
   "language": "python",
   "name": "python3"
  },
  "language_info": {
   "codemirror_mode": {
    "name": "ipython",
    "version": 3
   },
   "file_extension": ".py",
   "mimetype": "text/x-python",
   "name": "python",
   "nbconvert_exporter": "python",
   "pygments_lexer": "ipython3",
   "version": "3.10.6"
  }
 },
 "nbformat": 4,
 "nbformat_minor": 5
}
