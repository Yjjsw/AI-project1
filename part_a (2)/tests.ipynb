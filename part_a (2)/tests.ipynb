{
 "cells": [
  {
   "cell_type": "code",
   "execution_count": 1,
   "id": "5938e3f9",
   "metadata": {},
   "outputs": [
    {
     "name": "stdout",
     "output_type": "stream",
     "text": [
      "                         ..     \n",
      "                     ..      ..     \n",
      "                 ..      ..      ..     \n",
      "             ..      ..      ..      ..     \n",
      "         ..      ..      ..      ..      ..     \n",
      "     b2      ..      b1      ..      ..      ..     \n",
      " ..      b1      ..      ..      ..      ..      ..     \n",
      "     ..      ..      ..      ..      ..      r2     \n",
      "         ..      b3      ..      ..      ..     \n",
      "             ..      ..      ..      ..     \n",
      "                 ..      ..      ..     \n",
      "                     ..      ..     \n",
      "                         ..     \n",
      "\n",
      "SPREAD 5 6 -1 1\n",
      "SPREAD 3 1 0 1\n",
      "SPREAD 3 2 -1 1\n",
      "SPREAD 1 4 0 -1\n",
      "SPREAD 1 3 0 -1\n"
     ]
    }
   ],
   "source": [
    "import search\n",
    "!python -m search < test.csv"
   ]
  },
  {
   "cell_type": "code",
   "execution_count": null,
   "id": "481996ff",
   "metadata": {},
   "outputs": [],
   "source": []
  }
 ],
 "metadata": {
  "kernelspec": {
   "display_name": "Python 3 (ipykernel)",
   "language": "python",
   "name": "python3"
  },
  "language_info": {
   "codemirror_mode": {
    "name": "ipython",
    "version": 3
   },
   "file_extension": ".py",
   "mimetype": "text/x-python",
   "name": "python",
   "nbconvert_exporter": "python",
   "pygments_lexer": "ipython3",
   "version": "3.10.6"
  }
 },
 "nbformat": 4,
 "nbformat_minor": 5
}
