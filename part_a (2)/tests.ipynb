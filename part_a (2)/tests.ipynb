{
 "cells": [
  {
   "cell_type": "code",
   "execution_count": 30,
   "id": "5938e3f9",
   "metadata": {
    "scrolled": false
   },
   "outputs": [
    {
     "name": "stdout",
     "output_type": "stream",
     "text": [
      "                         ..     \n",
      "                     ..      ..     \n",
      "                 ..      ..      ..     \n",
      "             ..      ..      ..      ..     \n",
      "         ..      ..      ..      ..      ..     \n",
      "    \u001b[34m b2 \u001b[0m     ..     \u001b[34m b1 \u001b[0m     ..      ..      ..     \n",
      " ..     \u001b[34m b1 \u001b[0m     ..      ..      ..      ..      ..     \n",
      "     ..      ..      ..      ..      ..     \u001b[31m r2 \u001b[0m    \n",
      "         ..     \u001b[34m b3 \u001b[0m     ..      ..      ..     \n",
      "             ..      ..      ..      ..     \n",
      "                 ..      ..      ..     \n",
      "                     ..      ..     \n",
      "                         ..     \n",
      "\n",
      "(5, 6)\n",
      "(5, 6)\n",
      "(6, 5)\n",
      "(6, 5)\n",
      "                         ..     \n",
      "                     ..      ..     \n",
      "                 ..      ..      ..     \n",
      "             ..      ..      ..      ..     \n",
      "         ..      ..      ..      ..      ..     \n",
      "    \u001b[34m b2 \u001b[0m     ..     \u001b[34m b1 \u001b[0m     ..      ..     \u001b[31m r1 \u001b[0m    \n",
      " ..     \u001b[34m b1 \u001b[0m     ..      ..      ..      ..      ..     \n",
      "     ..      ..      ..      ..      ..      ..     \n",
      "         ..     \u001b[34m b3 \u001b[0m     ..      ..      ..     \n",
      "             ..      ..      ..      ..     \n",
      "                \u001b[31m r1 \u001b[0m     ..      ..     \n",
      "                     ..      ..     \n",
      "                         ..     \n",
      "\n",
      "SPREAD 5 6 -1 1\n",
      "SPREAD 3 1 0 1\n",
      "SPREAD 3 2 -1 1\n",
      "SPREAD 1 4 0 -1\n",
      "SPREAD 1 3 0 -1\n"
     ]
    }
   ],
   "source": [
    "import search\n",
    "!python -m search < test.csv\n"
   ]
  },
  {
   "cell_type": "code",
   "execution_count": null,
   "id": "f97ac64f",
   "metadata": {},
   "outputs": [],
   "source": []
  },
  {
   "cell_type": "code",
   "execution_count": null,
   "id": "6375241a",
   "metadata": {},
   "outputs": [],
   "source": []
  }
 ],
 "metadata": {
  "kernelspec": {
   "display_name": "Python 3 (ipykernel)",
   "language": "python",
   "name": "python3"
  },
  "language_info": {
   "codemirror_mode": {
    "name": "ipython",
    "version": 3
   },
   "file_extension": ".py",
   "mimetype": "text/x-python",
   "name": "python",
   "nbconvert_exporter": "python",
   "pygments_lexer": "ipython3",
   "version": "3.10.6"
  }
 },
 "nbformat": 4,
 "nbformat_minor": 5
}
